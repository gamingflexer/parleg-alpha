{
 "cells": [
  {
   "cell_type": "markdown",
   "metadata": {},
   "source": [
    "# Detection\n"
   ]
  },
  {
   "cell_type": "code",
   "execution_count": 1,
   "metadata": {},
   "outputs": [
    {
     "name": "stderr",
     "output_type": "stream",
     "text": [
      "/opt/homebrew/Caskroom/miniforge/base/envs/TOD/lib/python3.9/site-packages/tensorflow_io/python/ops/__init__.py:98: UserWarning: unable to load libtensorflow_io_plugins.so: unable to open file: libtensorflow_io_plugins.so, from paths: ['/opt/homebrew/Caskroom/miniforge/base/envs/TOD/lib/python3.9/site-packages/tensorflow_io/python/ops/libtensorflow_io_plugins.so']\n",
      "caused by: [\"[Errno 2] The file to load file system plugin from does not exist.: '/opt/homebrew/Caskroom/miniforge/base/envs/TOD/lib/python3.9/site-packages/tensorflow_io/python/ops/libtensorflow_io_plugins.so'\"]\n",
      "  warnings.warn(f\"unable to load libtensorflow_io_plugins.so: {e}\")\n",
      "/opt/homebrew/Caskroom/miniforge/base/envs/TOD/lib/python3.9/site-packages/tensorflow_io/python/ops/__init__.py:104: UserWarning: file system plugins are not loaded: unable to open file: libtensorflow_io.so, from paths: ['/opt/homebrew/Caskroom/miniforge/base/envs/TOD/lib/python3.9/site-packages/tensorflow_io/python/ops/libtensorflow_io.so']\n",
      "caused by: [\"dlopen(/opt/homebrew/Caskroom/miniforge/base/envs/TOD/lib/python3.9/site-packages/tensorflow_io/python/ops/libtensorflow_io.so, 0x0006): tried: '/opt/homebrew/Caskroom/miniforge/base/envs/TOD/lib/python3.9/site-packages/tensorflow_io/python/ops/libtensorflow_io.so' (no such file), '/usr/local/lib/libtensorflow_io.so' (no such file), '/usr/lib/libtensorflow_io.so' (no such file)\"]\n",
      "  warnings.warn(f\"file system plugins are not loaded: {e}\")\n"
     ]
    }
   ],
   "source": [
    "import re\n",
    "import os\n",
    "import sys\n",
    "import cv2\n",
    "\n",
    "os.environ['PYTHONPATH'] += \"/Users/cosmos/Desktop/parleg-alpha/RealTimeObjectDetection/Tensorflow/models\"\n",
    "sys.path.append( \"/Users/cosmos/Desktop/parleg-alpha/RealTimeObjectDetection/Tensorflow/models\")\n",
    "\n",
    "import numpy as np\n",
    "from object_detection.utils import label_map_util\n",
    "from object_detection.utils import visualization_utils as viz_utils\n",
    "from object_detection.builders import model_builder\n",
    "import tensorflow as tf\n",
    "from object_detection.utils import config_util\n",
    "from object_detection.protos import pipeline_pb2\n",
    "from google.protobuf import text_format\n",
    "from PIL import Image\n",
    "from matplotlib.image import imread\n",
    "\n",
    "#functions\n",
    "def clean_ocr(data):\n",
    "    for i in data:\n",
    "        m = re.search(\"^[a-zA-Z0-9_]*$\", i)\n",
    "    if m==None:\n",
    "        data.remove(i)\n",
    "        \n",
    "    data2 = [i for i in data if not i.isalpha()]\n",
    "\n",
    "    data3 = []\n",
    "\n",
    "    for k in data2:\n",
    "        if len(k)==5:\n",
    "            data3 = data3 + [k]\n",
    "            \n",
    "    return data3\n",
    "\n"
   ]
  },
  {
   "cell_type": "code",
   "execution_count": 2,
   "metadata": {},
   "outputs": [],
   "source": [
    "CURRENT_WORKSPACE_NAME = '/workspace'\n",
    "ROOT_PATH = '/Users/cosmos/Desktop/parleg-alpha/RealTimeObjectDetection'\n",
    "WORKSPACE_PATH = ROOT_PATH+'/Tensorflow/'+CURRENT_WORKSPACE_NAME\n",
    "SCRIPTS_PATH = ROOT_PATH+'/Tensorflow/scripts'\n",
    "APIMODEL_PATH = ROOT_PATH+'/Tensorflow/models'\n",
    "ANNOTATION_PATH = WORKSPACE_PATH+'/annotations'\n",
    "IMAGE_PATH = WORKSPACE_PATH+'/images'\n",
    "MODEL_PATH = WORKSPACE_PATH+'/models'\n",
    "PRETRAINED_MODEL_PATH = WORKSPACE_PATH+'/pre-trained-models'\n",
    "CONFIG_PATH = MODEL_PATH+'/my_ssd_mobnet/pipeline.config'\n",
    "CHECKPOINT_PATH = MODEL_PATH+'/my_ssd_mobnet/'\n",
    "dataset = 'Valour3'\n",
    "frameNo = '62'\n",
    "\n",
    "\n",
    "category_index = label_map_util.create_category_index_from_labelmap(ANNOTATION_PATH+'/label_map.pbtxt')\n",
    "\n",
    "# Load pipeline config and build a detection model\n",
    "configs = config_util.get_configs_from_pipeline_file(CONFIG_PATH)\n",
    "detection_model = model_builder.build(model_config=configs['model'], is_training=False)\n",
    "\n",
    "# Restore checkpoint\n",
    "ckpt = tf.compat.v2.train.Checkpoint(model=detection_model)\n",
    "ckpt.restore(os.path.join(CHECKPOINT_PATH, 'ckpt-50')).expect_partial()\n",
    "\n",
    "@tf.function\n",
    "def detect_fn(image):\n",
    "    image, shapes = detection_model.preprocess(image)\n",
    "    prediction_dict = detection_model.predict(image, shapes)\n",
    "    detections = detection_model.postprocess(prediction_dict, shapes)\n",
    "    return detections"
   ]
  },
  {
   "cell_type": "code",
   "execution_count": 68,
   "metadata": {},
   "outputs": [],
   "source": [
    "def detect_part(image_path):\n",
    "    \n",
    "    #crop\n",
    "    \n",
    "    coordinates = []\n",
    "    max_boxes_to_draw = 5\n",
    "    min_score_thresh=.3\n",
    "\n",
    "\n",
    "    img = imread(image_path)\n",
    "    # print(type(img))\n",
    "    \n",
    "\n",
    "    image_np = np.array(img)\n",
    "    # print(type(image_np))\n",
    "\n",
    "    input_tensor = tf.convert_to_tensor(np.expand_dims(image_np, 0), dtype=tf.float32)\n",
    "    detections = detect_fn(input_tensor)\n",
    "\n",
    "    num_detections = int(detections.pop('num_detections'))\n",
    "    detections = {key: value[0, :num_detections].numpy()\n",
    "                for key, value in detections.items()}\n",
    "    detections['num_detections'] = num_detections\n",
    "\n",
    "    # print(detections['detection_classes'])\n",
    "    # print(type(detections['detection_classes']))\n",
    "\n",
    "    # detection_classes should be ints.\n",
    "    detections['detection_classes'] = detections['detection_classes'].astype(np.int64)\n",
    "\n",
    "    imgout = Image.fromarray(image_np, 'RGB')\n",
    "    \n",
    "    #cropping\n",
    "    \n",
    "    boxes = detections['detection_boxes']\n",
    "    # max_boxes_to_draw = boxes.shape[0]\n",
    "    scores = detections['detection_scores']\n",
    "\n",
    "\n",
    "    for i in range(min(max_boxes_to_draw, boxes.shape[0])):\n",
    "        if scores[i] > min_score_thresh:\n",
    "            class_id = int(detections['detection_classes'][i] + 1)\n",
    "            box = boxes[i]\n",
    "            im_height = imgout.height\n",
    "            im_width = imgout.width\n",
    "            (ymin, xmin, ymax, xmax) = (box[0] * im_height, box[1] * im_width,\n",
    "                            box[2] * im_height, box[3] * im_width)\n",
    "            coordinates.append({\n",
    "                \"box\": [int(xmin) , int(ymin) , int(xmax) ,int(ymax)],\n",
    "                \"class_name\": category_index[class_id][\"name\"],\n",
    "                \"score\": scores[i]\n",
    "            })\n",
    "    return imgout,coordinates"
   ]
  },
  {
   "cell_type": "code",
   "execution_count": 69,
   "metadata": {},
   "outputs": [],
   "source": [
    "img,coordinates = detect_part(\"/Users/cosmos/Desktop/parleg-alpha/Training/img_0010.jpg\")"
   ]
  },
  {
   "cell_type": "code",
   "execution_count": 71,
   "metadata": {},
   "outputs": [
    {
     "data": {
      "text/plain": [
       "[{'box': [762, 268, 861, 368], 'class_name': 'arrow', 'score': 0.99898094},\n",
       " {'box': [660, 157, 751, 248], 'class_name': 'scheme', 'score': 0.99289346}]"
      ]
     },
     "execution_count": 71,
     "metadata": {},
     "output_type": "execute_result"
    }
   ],
   "source": [
    "coordinates"
   ]
  },
  {
   "cell_type": "markdown",
   "metadata": {},
   "source": [
    "# Cropping"
   ]
  },
  {
   "cell_type": "code",
   "execution_count": 72,
   "metadata": {},
   "outputs": [],
   "source": [
    "def translate_box(coordinates):\n",
    "    left,upper,right,lower = coordinates[0]['box']\n",
    "    for coordinate in coordinates:\n",
    "        if coordinate['class_name']==\"arrow\":\n",
    "            left,upper,right,lower = coordinate['box']\n",
    "            new_upper = upper - (lower-upper)\n",
    "            right = right + (right-left)*0.2\n",
    "            lower = lower - (lower-upper)\n",
    "            return (left,new_upper,right,lower)   "
   ]
  },
  {
   "cell_type": "code",
   "execution_count": 80,
   "metadata": {},
   "outputs": [],
   "source": [
    "new_img = img.crop(translate_box(coordinates=coordinates))\n",
    "new_img.save(\"/Users/cosmos/Desktop/parleg-alpha/production/final.png\")"
   ]
  },
  {
   "cell_type": "code",
   "execution_count": 82,
   "metadata": {},
   "outputs": [
    {
     "name": "stderr",
     "output_type": "stream",
     "text": [
      "CUDA not available - defaulting to CPU. Note: This module is much faster with a GPU.\n"
     ]
    }
   ],
   "source": [
    "import easyocr\n",
    "import re\n",
    "import numpy\n",
    "\n",
    "text_reader = easyocr.Reader(['en']) #Initialzing the ocr"
   ]
  },
  {
   "cell_type": "code",
   "execution_count": 91,
   "metadata": {},
   "outputs": [],
   "source": [
    "def ocr(img_array):\n",
    "    \n",
    "    results = text_reader.readtext(img_array)\n",
    "    data = []\n",
    "    finall = []\n",
    "    for (bbox, text, prob) in results:\n",
    "        data = data + [text]\n",
    "\n",
    "    for i in data:\n",
    "        m = re.search(\"^[a-zA-Z0-9_]*$\", i)\n",
    "        if m==None:\n",
    "            data.remove(i)\n",
    "            \n",
    "    final = [i for i in data if not i.isalpha()]\n",
    "    return final,results"
   ]
  },
  {
   "cell_type": "code",
   "execution_count": 92,
   "metadata": {},
   "outputs": [
    {
     "data": {
      "text/plain": [
       "(['Veu19'],\n",
       " [([[22, 12], [115, 12], [115, 45], [22, 45]], 'Veu19', 0.02697157250068769),\n",
       "  ([[20, 44], [94, 44], [94, 72], [20, 72]], '144 , G0', 0.07553660693692277)])"
      ]
     },
     "execution_count": 92,
     "metadata": {},
     "output_type": "execute_result"
    }
   ],
   "source": [
    "ocr(numpy.array(new_img))"
   ]
  }
 ],
 "metadata": {
  "interpreter": {
   "hash": "f40663dfee16db09be6af2ff2550db36bd5354ec153147c40353828514dedb99"
  },
  "kernelspec": {
   "display_name": "Python 3.9.12 ('TOD')",
   "language": "python",
   "name": "python3"
  },
  "language_info": {
   "codemirror_mode": {
    "name": "ipython",
    "version": 3
   },
   "file_extension": ".py",
   "mimetype": "text/x-python",
   "name": "python",
   "nbconvert_exporter": "python",
   "pygments_lexer": "ipython3",
   "version": "3.9.12"
  },
  "orig_nbformat": 4
 },
 "nbformat": 4,
 "nbformat_minor": 2
}
