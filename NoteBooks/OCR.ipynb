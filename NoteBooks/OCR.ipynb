{
  "cells": [
    {
      "cell_type": "markdown",
      "id": "pn0JMn3m07pk",
      "metadata": {
        "id": "pn0JMn3m07pk"
      },
      "source": [
        "# TESTING"
      ]
    },
    {
      "cell_type": "markdown",
      "id": "8RJ1jOB2op1q",
      "metadata": {
        "id": "8RJ1jOB2op1q"
      },
      "source": [
        "# INSTALL"
      ]
    },
    {
      "cell_type": "code",
      "execution_count": null,
      "id": "Uy_iqBSVnj39",
      "metadata": {
        "colab": {
          "base_uri": "https://localhost:8080/"
        },
        "id": "Uy_iqBSVnj39",
        "outputId": "072d3016-5bea-4963-dda3-eac4d1012622"
      },
      "outputs": [
        {
          "name": "stdout",
          "output_type": "stream",
          "text": [
            "\u001b[K     |████████████████████████████████| 41 kB 314 kB/s \n",
            "\u001b[K     |████████████████████████████████| 70.8 MB 13 kB/s \n",
            "\u001b[K     |████████████████████████████████| 15.6 MB 32.7 MB/s \n",
            "\u001b[K     |████████████████████████████████| 4.3 MB 31.4 MB/s \n",
            "\u001b[K     |████████████████████████████████| 603 kB 42.1 MB/s \n",
            "\u001b[K     |████████████████████████████████| 9.5 MB 36.2 MB/s \n",
            "\u001b[K     |████████████████████████████████| 930 kB 63.5 MB/s \n",
            "\u001b[K     |████████████████████████████████| 50 kB 5.2 MB/s \n",
            "\u001b[K     |████████████████████████████████| 47.6 MB 67 kB/s \n",
            "\u001b[K     |████████████████████████████████| 265 kB 44.2 MB/s \n",
            "\u001b[K     |████████████████████████████████| 10.2 MB 35.5 MB/s \n",
            "\u001b[K     |████████████████████████████████| 92 kB 32 kB/s \n",
            "\u001b[K     |████████████████████████████████| 64 kB 2.4 MB/s \n",
            "\u001b[K     |████████████████████████████████| 79.6 MB 6.5 kB/s \n",
            "\u001b[K     |████████████████████████████████| 1.5 MB 40.2 MB/s \n",
            "\u001b[K     |████████████████████████████████| 11.9 MB 39.3 MB/s \n",
            "\u001b[K     |████████████████████████████████| 7.9 MB 39.8 MB/s \n",
            "\u001b[K     |████████████████████████████████| 1.3 MB 46.0 MB/s \n",
            "\u001b[K     |████████████████████████████████| 98 kB 6.8 MB/s \n",
            "\u001b[K     |████████████████████████████████| 968 kB 47.9 MB/s \n",
            "\u001b[K     |████████████████████████████████| 89 kB 7.5 MB/s \n",
            "\u001b[K     |████████████████████████████████| 225 kB 58.3 MB/s \n",
            "\u001b[K     |████████████████████████████████| 15.5 MB 43.0 MB/s \n",
            "\u001b[K     |████████████████████████████████| 15.4 MB 40.0 MB/s \n",
            "\u001b[K     |████████████████████████████████| 15.4 MB 133 kB/s \n",
            "\u001b[K     |████████████████████████████████| 15.9 MB 34.7 MB/s \n",
            "\u001b[K     |████████████████████████████████| 15.4 MB 51.8 MB/s \n",
            "\u001b[K     |████████████████████████████████| 15.4 MB 48.7 MB/s \n",
            "\u001b[K     |████████████████████████████████| 14.2 MB 26.1 MB/s \n",
            "\u001b[K     |████████████████████████████████| 14.2 MB 1.2 MB/s \n",
            "\u001b[K     |████████████████████████████████| 12.2 MB 1.5 MB/s \n",
            "\u001b[K     |████████████████████████████████| 50.9 MB 5.1 kB/s \n",
            "\u001b[K     |████████████████████████████████| 30.8 MB 1.4 MB/s \n",
            "\u001b[33mWARNING: Discarding https://files.pythonhosted.org/packages/0c/5f/6e84700b7825bcddb12cd3eead8ac787d9d624be9f2c01aa4fb9a88572a9/webview-0.1.5.tar.gz#sha256=fb62502d687074035f888a14c76ca13bcba0dbf1f1d366679954b7586c90f8d6 (from https://pypi.org/simple/webview/). Command errored out with exit status 1: python setup.py egg_info Check the logs for full command output.\u001b[0m\n",
            "\u001b[33mWARNING: Discarding https://files.pythonhosted.org/packages/6b/06/618b383f808121a72d8410255950a065dfd8cb0f6bd4ed6084c8a76ef0fa/webview-0.1.4.tar.gz#sha256=f5f7666f81d42b681258e8ea3af2ed1ee02d4216b00a702253ac795fa64fad6a (from https://pypi.org/simple/webview/). Command errored out with exit status 1: python setup.py egg_info Check the logs for full command output.\u001b[0m\n",
            "\u001b[33mWARNING: Discarding https://files.pythonhosted.org/packages/05/c4/512970a4e4c56942759eb7a45db4a3b7a5857ba41980f57cf611e85213e3/webview-0.1.3.tar.gz#sha256=44601ab2befe0108c4d43feef1bf5d6d9233978bd47ad2c6f0160c1cd24a9b50 (from https://pypi.org/simple/webview/). Command errored out with exit status 1: python setup.py egg_info Check the logs for full command output.\u001b[0m\n",
            "\u001b[33mWARNING: Discarding https://files.pythonhosted.org/packages/1f/b1/278d23254b277e7d23a79d5ead46db0f52e6f15c7d60330166e01f5e1b10/webview-0.1.2.tar.gz#sha256=dff5e0d1706456f62ca13a6f3f9c0c10d8f190bcafa377cfee8cb93f9d208ad2 (from https://pypi.org/simple/webview/). Command errored out with exit status 1: python setup.py egg_info Check the logs for full command output.\u001b[0m\n",
            "\u001b[33mWARNING: Discarding https://files.pythonhosted.org/packages/ff/45/5d7da4d3e1d4ae8b1b5afc358aa4bdb80c0398e2ec837eab6d4337bc7685/webview-0.1.1.tar.gz#sha256=02ecbe849e0f3611891e51942cafdb76af3f10701e9dedd002649332ca929ce6 (from https://pypi.org/simple/webview/). Command errored out with exit status 1: python setup.py egg_info Check the logs for full command output.\u001b[0m\n",
            "\u001b[33mWARNING: Discarding https://files.pythonhosted.org/packages/6c/28/44eeb06514beb358972fdc7c5601ebcc57c7c4f2c892ff5b59a7946d2e1b/webview-0.1.tar.gz#sha256=d666d67e34af6169516d9f55e2e8d70678f905525241a6a77e2e760da0d26009 (from https://pypi.org/simple/webview/). Command errored out with exit status 1: python setup.py egg_info Check the logs for full command output.\u001b[0m\n",
            "\u001b[K     |████████████████████████████████| 51.8 MB 134 kB/s \n",
            "\u001b[K     |████████████████████████████████| 54.1 MB 1.7 MB/s eta 0:00:01"
          ]
        }
      ],
      "source": [
        "!pip install pytesseract keras_ocr easyocr os-sys pytesseract -q"
      ]
    },
    {
      "cell_type": "code",
      "execution_count": null,
      "id": "BCLwFrcezP89",
      "metadata": {
        "id": "BCLwFrcezP89"
      },
      "outputs": [],
      "source": [
        "!pip install Pillow==9.0.0 -q\n",
        "!sudo apt-get update\n",
        "!sudo apt-get install tesseract-ocr"
      ]
    },
    {
      "cell_type": "markdown",
      "id": "fITVHr9vor2F",
      "metadata": {
        "id": "fITVHr9vor2F"
      },
      "source": [
        "# IMPORTS"
      ]
    },
    {
      "cell_type": "code",
      "execution_count": 2,
      "id": "fa94eabc",
      "metadata": {
        "execution": {
          "iopub.execute_input": "2021-08-24T01:24:48.986556Z",
          "iopub.status.busy": "2021-08-24T01:24:48.985877Z",
          "iopub.status.idle": "2021-08-24T01:25:06.378699Z",
          "shell.execute_reply": "2021-08-24T01:25:06.378040Z",
          "shell.execute_reply.started": "2021-08-24T01:12:59.970144Z"
        },
        "id": "fa94eabc",
        "papermill": {
          "duration": 17.430099,
          "end_time": "2021-08-24T01:25:06.378874",
          "exception": false,
          "start_time": "2021-08-24T01:24:48.948775",
          "status": "completed"
        },
        "tags": []
      },
      "outputs": [
        {
          "name": "stdout",
          "output_type": "stream",
          "text": [
            "Init Plugin\n",
            "Init Graph Optimizer\n",
            "Init Kernel\n"
          ]
        },
        {
          "ename": "",
          "evalue": "",
          "output_type": "error",
          "traceback": [
            "\u001b[1;31mThe Kernel crashed while executing code in the the current cell or a previous cell. Please review the code in the cell(s) to identify a possible cause of the failure. Click <a href='https://aka.ms/vscodeJupyterKernelCrash'>here</a> for more info. View Jupyter <a href='command:jupyter.viewOutput'>log</a> for further details."
          ]
        },
        {
          "ename": "",
          "evalue": "",
          "output_type": "error",
          "traceback": [
            "\u001b[1;31mCanceled future for execute_request message before replies were done"
          ]
        }
      ],
      "source": [
        "from IPython.display import clear_output\n",
        "from PIL import Image\n",
        "import re\n",
        "import pytesseract as pt\n",
        "import os\n",
        "import keras_ocr\n",
        "import easyocr\n",
        "import matplotlib.pyplot as plt\n",
        "import cv2\n",
        "%matplotlib inline\n",
        "\n",
        "path =\"/content/data\"\n",
        "\n",
        "tempPath1 =\"/content/keras.csv\"\n",
        "tempPath2 =\"/content/easyocr.csv\"\n",
        "tempPath3 =\"/content/Pytesseract.csv\"\n",
        "\n",
        "def clean(data):\n",
        "  for i in data:\n",
        "    final = re.search(\"^[a-zA-Z0-9_]*$\", i)\n",
        "    return final"
      ]
    },
    {
      "cell_type": "markdown",
      "id": "513e0be0",
      "metadata": {
        "id": "513e0be0",
        "papermill": {
          "duration": 0.03635,
          "end_time": "2021-08-24T01:25:19.756694",
          "exception": false,
          "start_time": "2021-08-24T01:25:19.720344",
          "status": "completed"
        },
        "tags": []
      },
      "source": [
        "<a id=\"kerasocr\"></a>\n",
        "# KERAS_OCR"
      ]
    },
    {
      "cell_type": "code",
      "execution_count": null,
      "id": "7057976e",
      "metadata": {
        "execution": {
          "iopub.execute_input": "2021-08-24T01:25:19.833582Z",
          "iopub.status.busy": "2021-08-24T01:25:19.832955Z",
          "iopub.status.idle": "2021-08-24T01:26:52.010828Z",
          "shell.execute_reply": "2021-08-24T01:26:52.010249Z",
          "shell.execute_reply.started": "2021-08-24T01:13:26.901789Z"
        },
        "id": "7057976e",
        "papermill": {
          "duration": 92.217792,
          "end_time": "2021-08-24T01:26:52.011159",
          "exception": false,
          "start_time": "2021-08-24T01:25:19.793367",
          "status": "completed"
        },
        "tags": []
      },
      "outputs": [],
      "source": [
        "pipline = keras_ocr.pipeline.Pipeline() #Creting a pipline "
      ]
    },
    {
      "cell_type": "code",
      "execution_count": null,
      "id": "bp972Pw2zeVt",
      "metadata": {
        "id": "bp972Pw2zeVt"
      },
      "outputs": [],
      "source": [
        "def ocrtocsv1(tempPath):\n",
        "    for imageName in os.listdir(path):\n",
        "                \n",
        "        inputPath = os.path.join(path, imageName)\n",
        "        #img = Image.open(inputPath)\n",
        "        #text = pt.image_to_string(img, lang =\"eng\")\n",
        "        data = keras_ocr.tools.read(inputPath)\n",
        "        text = pipline.recognize(data)\n",
        "        if len(text)!=0:\n",
        "            fullTempPath = os.path.join(tempPath)\n",
        "            \n",
        "            with open(fullTempPath, \"a\") as file1:\n",
        "                #file1.write(text+\",\"+imageName+\"\\n\")\n",
        "                file1.write(text+\"\\n\")\n",
        "                file1.close() \n",
        "            \n",
        "        else:\n",
        "            fullTempPath = os.path.join(tempPath)\n",
        "            with open(fullTempPath, \"a\") as file1:\n",
        "                #file1.write(\"Not Found\"+\",\"+imageName+\"\\n\")\n",
        "                file1.write(\"Not Found\"+\"\\n\")\n",
        "                file1.close() \n",
        "    return \"sucess\"\n",
        "\n",
        "ocrtocsv1(tempPath1)"
      ]
    },
    {
      "cell_type": "code",
      "execution_count": null,
      "id": "4v3c9-Fi3H4_",
      "metadata": {
        "id": "4v3c9-Fi3H4_"
      },
      "outputs": [],
      "source": [
        "data = keras_ocr.tools.read('/content/data/img_001.jpg')\n",
        "text = pipline.recognize(data)\n",
        "text"
      ]
    },
    {
      "cell_type": "markdown",
      "id": "795b761c",
      "metadata": {
        "id": "795b761c",
        "papermill": {
          "duration": 0.062716,
          "end_time": "2021-08-24T01:26:58.379253",
          "exception": false,
          "start_time": "2021-08-24T01:26:58.316537",
          "status": "completed"
        },
        "tags": []
      },
      "source": [
        "<a id=\"easyocr\"></a>\n",
        "# EASYOCR"
      ]
    },
    {
      "cell_type": "code",
      "execution_count": 1,
      "id": "13e6e9b2",
      "metadata": {
        "colab": {
          "base_uri": "https://localhost:8080/"
        },
        "execution": {
          "iopub.execute_input": "2021-08-24T01:26:58.512040Z",
          "iopub.status.busy": "2021-08-24T01:26:58.511314Z",
          "iopub.status.idle": "2021-08-24T01:27:02.033206Z",
          "shell.execute_reply": "2021-08-24T01:27:02.032589Z",
          "shell.execute_reply.started": "2021-08-24T01:15:09.98225Z"
        },
        "id": "13e6e9b2",
        "outputId": "8cc3e9a4-c13c-401d-a4c6-2c55bedd87db",
        "papermill": {
          "duration": 3.589754,
          "end_time": "2021-08-24T01:27:02.033397",
          "exception": false,
          "start_time": "2021-08-24T01:26:58.443643",
          "status": "completed"
        },
        "tags": []
      },
      "outputs": [
        {
          "ename": "NameError",
          "evalue": "name 'easyocr' is not defined",
          "output_type": "error",
          "traceback": [
            "\u001b[0;31m---------------------------------------------------------------------------\u001b[0m",
            "\u001b[0;31mNameError\u001b[0m                                 Traceback (most recent call last)",
            "\u001b[0;32m/var/folders/2h/lw5rv90j0ln7v084d1vkrcg80000gn/T/ipykernel_41896/3201203264.py\u001b[0m in \u001b[0;36m<cell line: 1>\u001b[0;34m()\u001b[0m\n\u001b[0;32m----> 1\u001b[0;31m \u001b[0mtext_reader\u001b[0m \u001b[0;34m=\u001b[0m \u001b[0measyocr\u001b[0m\u001b[0;34m.\u001b[0m\u001b[0mReader\u001b[0m\u001b[0;34m(\u001b[0m\u001b[0;34m[\u001b[0m\u001b[0;34m'en'\u001b[0m\u001b[0;34m]\u001b[0m\u001b[0;34m)\u001b[0m \u001b[0;31m#Initialzing the ocr\u001b[0m\u001b[0;34m\u001b[0m\u001b[0;34m\u001b[0m\u001b[0m\n\u001b[0m",
            "\u001b[0;31mNameError\u001b[0m: name 'easyocr' is not defined"
          ]
        }
      ],
      "source": [
        "text_reader = easyocr.Reader(['en']) #Initialzing the ocr"
      ]
    },
    {
      "cell_type": "code",
      "execution_count": null,
      "id": "-2rpYGiAzlLg",
      "metadata": {
        "colab": {
          "base_uri": "https://localhost:8080/",
          "height": 35
        },
        "id": "-2rpYGiAzlLg",
        "outputId": "6d9b1654-c5c8-42d2-cf39-4ec2a6607141"
      },
      "outputs": [
        {
          "data": {
            "application/vnd.google.colaboratory.intrinsic+json": {
              "type": "string"
            },
            "text/plain": [
              "'sucess'"
            ]
          },
          "execution_count": 50,
          "metadata": {},
          "output_type": "execute_result"
        }
      ],
      "source": [
        "def ocrtocsv2(tempPath):\n",
        "    data = [] \n",
        "    for imageName in os.listdir(path):\n",
        "                \n",
        "        inputPath = os.path.join(path, imageName)\n",
        "        results = text_reader.readtext(inputPath)\n",
        "        for (bbox, text, prob) in results:\n",
        "          data = data + [text]\n",
        "          text = str(data)\n",
        "          text = text.replace(\",\",\"\")\n",
        "          text = text.replace(\"]\",\"\")\n",
        "          text = text.replace(\"[\",\"\")\n",
        "        #img = Image.open(inputPath)\n",
        "        #text = pt.image_to_string(img, lang =\"eng\")\n",
        "        \n",
        "        if len(text)!=0:\n",
        "            fullTempPath = os.path.join(tempPath)\n",
        "            \n",
        "            with open(fullTempPath, \"a\") as file1:\n",
        "                #file1.write(text+\",\"+imageName+\"\\n\")\n",
        "                file1.write(text+\"\\n\")\n",
        "                file1.close() \n",
        "            \n",
        "        else:\n",
        "            fullTempPath = os.path.join(tempPath)\n",
        "            with open(fullTempPath, \"a\") as file1:\n",
        "                #file1.write(\"Not Found\"+\",\"+imageName+\"\\n\")\n",
        "                file1.write(\"Not Found\"+\"\\n\")\n",
        "                file1.close() \n",
        "    return \"sucess\"\n",
        "\n",
        "ocrtocsv2(tempPath2)"
      ]
    },
    {
      "cell_type": "code",
      "execution_count": null,
      "id": "9408fc95",
      "metadata": {
        "colab": {
          "base_uri": "https://localhost:8080/"
        },
        "execution": {
          "iopub.execute_input": "2021-08-24T01:27:02.416113Z",
          "iopub.status.busy": "2021-08-24T01:27:02.415170Z",
          "iopub.status.idle": "2021-08-24T01:27:06.141141Z",
          "shell.execute_reply": "2021-08-24T01:27:06.140563Z",
          "shell.execute_reply.started": "2021-08-24T01:15:13.520099Z"
        },
        "id": "9408fc95",
        "outputId": "f908fadb-9346-4284-adda-7370a3c871a8",
        "papermill": {
          "duration": 3.793198,
          "end_time": "2021-08-24T01:27:06.141280",
          "exception": false,
          "start_time": "2021-08-24T01:27:02.348082",
          "status": "completed"
        },
        "tags": []
      },
      "outputs": [
        {
          "data": {
            "text/plain": [
              "['GcHEMD',\n",
              " 'BF819',\n",
              " '144X 60 9',\n",
              " 'This Sidejur',\n",
              " '4',\n",
              " 'Tear',\n",
              " 'arle-G',\n",
              " 'Original Gluco\" Biscuits',\n",
              " 'Prn',\n",
              " 'HELRAL?Poaierautori',\n",
              " '@Ni']"
            ]
          },
          "execution_count": 51,
          "metadata": {},
          "output_type": "execute_result"
        }
      ],
      "source": [
        "import re\n",
        "results = text_reader.readtext('/content/data/img_001.jpg')\n",
        "data = []\n",
        "finall = []\n",
        "for (bbox, text, prob) in results:\n",
        "    data = data + [text]\n",
        "\n",
        "data"
      ]
    },
    {
      "cell_type": "code",
      "execution_count": null,
      "id": "Mri8A8zv3v0F",
      "metadata": {
        "id": "Mri8A8zv3v0F"
      },
      "outputs": [],
      "source": [
        "for i in data:\n",
        "  m = re.search(\"^[a-zA-Z0-9_]*$\", i)\n",
        "  if m==None:\n",
        "    data.remove(i)"
      ]
    },
    {
      "cell_type": "code",
      "execution_count": null,
      "id": "Ee1kRySNE1b4",
      "metadata": {
        "colab": {
          "base_uri": "https://localhost:8080/"
        },
        "id": "Ee1kRySNE1b4",
        "outputId": "06713850-324e-4136-93a2-c2315637a6b6"
      },
      "outputs": [
        {
          "data": {
            "text/plain": [
              "['BF819', '4']"
            ]
          },
          "execution_count": 54,
          "metadata": {},
          "output_type": "execute_result"
        }
      ],
      "source": [
        "[i for i in data if not i.isalpha()]"
      ]
    },
    {
      "cell_type": "markdown",
      "id": "aab24b3a",
      "metadata": {
        "id": "aab24b3a",
        "papermill": {
          "duration": 0.075168,
          "end_time": "2021-08-24T01:27:25.580889",
          "exception": false,
          "start_time": "2021-08-24T01:27:25.505721",
          "status": "completed"
        },
        "tags": []
      },
      "source": [
        "<a id=\"pytesseract\"></a>\n",
        "# Pytesseract"
      ]
    },
    {
      "cell_type": "code",
      "execution_count": null,
      "id": "Uqz22LOHzq3E",
      "metadata": {
        "colab": {
          "base_uri": "https://localhost:8080/",
          "height": 35
        },
        "id": "Uqz22LOHzq3E",
        "outputId": "d1988dcb-8078-4e7d-af1c-599d0f8bd998"
      },
      "outputs": [
        {
          "data": {
            "application/vnd.google.colaboratory.intrinsic+json": {
              "type": "string"
            },
            "text/plain": [
              "'sucess'"
            ]
          },
          "execution_count": 48,
          "metadata": {},
          "output_type": "execute_result"
        }
      ],
      "source": [
        "def ocrtocsv3(tempPath):\n",
        "    for imageName in os.listdir(path):\n",
        "                \n",
        "        inputPath = os.path.join(path, imageName)\n",
        "        img = Image.open(inputPath)\n",
        "        text = pt.image_to_string(img, lang =\"eng\")\n",
        "        \n",
        "        if len(text)!=0:\n",
        "            fullTempPath = os.path.join(tempPath)\n",
        "            \n",
        "            with open(fullTempPath, \"a\") as file1:\n",
        "                #file1.write(text+\",\"+imageName+\"\\n\")\n",
        "                file1.write(text+\"\\n\")\n",
        "                file1.close() \n",
        "            \n",
        "        else:\n",
        "            fullTempPath = os.path.join(tempPath)\n",
        "            with open(fullTempPath, \"a\") as file1:\n",
        "                #file1.write(\"Not Found\"+\",\"+imageName+\"\\n\")\n",
        "                file1.write(\"Not Found\"+\"\\n\")\n",
        "                file1.close() \n",
        "    return \"sucess\"\n",
        "\n",
        "ocrtocsv3(tempPath3)"
      ]
    },
    {
      "cell_type": "code",
      "execution_count": null,
      "id": "E02bXaAO1NkB",
      "metadata": {
        "colab": {
          "base_uri": "https://localhost:8080/",
          "height": 35
        },
        "id": "E02bXaAO1NkB",
        "outputId": "923cf401-8970-44ca-be62-a4ce42540b04"
      },
      "outputs": [
        {
          "data": {
            "application/vnd.google.colaboratory.intrinsic+json": {
              "type": "string"
            },
            "text/plain": [
              "' \\n\\x0c'"
            ]
          },
          "execution_count": 9,
          "metadata": {},
          "output_type": "execute_result"
        }
      ],
      "source": [
        "img = Image.open('/content/data/img_001.jpg')\n",
        "text = pt.image_to_string(img, lang =\"eng\")\n",
        "#text = text.decode()\n",
        "text"
      ]
    },
    {
      "cell_type": "code",
      "execution_count": null,
      "id": "5A0TwUE52rJs",
      "metadata": {
        "id": "5A0TwUE52rJs"
      },
      "outputs": [],
      "source": []
    },
    {
      "cell_type": "markdown",
      "id": "UU8lnV2S0-Cd",
      "metadata": {
        "id": "UU8lnV2S0-Cd"
      },
      "source": [
        "# CUSTOM TRAIN"
      ]
    },
    {
      "cell_type": "code",
      "execution_count": null,
      "id": "8LlOaHGt1AAt",
      "metadata": {
        "id": "8LlOaHGt1AAt"
      },
      "outputs": [],
      "source": []
    }
  ],
  "metadata": {
    "colab": {
      "name": "OCR.ipynb",
      "provenance": []
    },
    "interpreter": {
      "hash": "4bd624a0593993fe43ac4046b27b898fb2ef75c21c08f81e89e64ea0f51df676"
    },
    "kernelspec": {
      "display_name": "Python 3.9.10 ('tensorflow')",
      "language": "python",
      "name": "python3"
    },
    "language_info": {
      "codemirror_mode": {
        "name": "ipython",
        "version": 3
      },
      "file_extension": ".py",
      "mimetype": "text/x-python",
      "name": "python",
      "nbconvert_exporter": "python",
      "pygments_lexer": "ipython3",
      "version": "3.9.10"
    },
    "papermill": {
      "default_parameters": {},
      "duration": 171.882801,
      "end_time": "2021-08-24T01:27:32.756929",
      "environment_variables": {},
      "exception": null,
      "input_path": "__notebook__.ipynb",
      "output_path": "__notebook__.ipynb",
      "parameters": {},
      "start_time": "2021-08-24T01:24:40.874128",
      "version": "2.3.3"
    }
  },
  "nbformat": 4,
  "nbformat_minor": 5
}
