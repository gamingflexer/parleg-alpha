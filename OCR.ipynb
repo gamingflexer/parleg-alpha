{
 "cells": [
  {
   "cell_type": "code",
   "execution_count": 1,
   "id": "fa94eabc",
   "metadata": {
    "execution": {
     "iopub.execute_input": "2021-08-24T01:24:48.986556Z",
     "iopub.status.busy": "2021-08-24T01:24:48.985877Z",
     "iopub.status.idle": "2021-08-24T01:25:06.378699Z",
     "shell.execute_reply": "2021-08-24T01:25:06.378040Z",
     "shell.execute_reply.started": "2021-08-24T01:12:59.970144Z"
    },
    "papermill": {
     "duration": 17.430099,
     "end_time": "2021-08-24T01:25:06.378874",
     "exception": false,
     "start_time": "2021-08-24T01:24:48.948775",
     "status": "completed"
    },
    "tags": []
   },
   "outputs": [],
   "source": [
    "from IPython.display import clear_output\n",
    "!pip install keras-ocr"
   ]
  },
  {
   "cell_type": "code",
   "execution_count": 2,
   "id": "31124f91",
   "metadata": {
    "execution": {
     "iopub.execute_input": "2021-08-24T01:25:06.483488Z",
     "iopub.status.busy": "2021-08-24T01:25:06.482507Z",
     "iopub.status.idle": "2021-08-24T01:25:16.353713Z",
     "shell.execute_reply": "2021-08-24T01:25:16.354242Z",
     "shell.execute_reply.started": "2021-08-24T01:13:15.014397Z"
    },
    "papermill": {
     "duration": 9.901704,
     "end_time": "2021-08-24T01:25:16.354445",
     "exception": false,
     "start_time": "2021-08-24T01:25:06.452741",
     "status": "completed"
    },
    "tags": []
   },
   "outputs": [],
   "source": [
    "import pytesseract\n",
    "import keras_ocr\n",
    "import easyocr\n",
    "import matplotlib.pyplot as plt\n",
    "import cv2\n",
    "%matplotlib inline"
   ]
  },
  {
   "cell_type": "code",
   "execution_count": 3,
   "id": "a6c9a562",
   "metadata": {
    "execution": {
     "iopub.execute_input": "2021-08-24T01:25:16.466672Z",
     "iopub.status.busy": "2021-08-24T01:25:16.465922Z",
     "iopub.status.idle": "2021-08-24T01:25:18.857237Z",
     "shell.execute_reply": "2021-08-24T01:25:18.856669Z",
     "shell.execute_reply.started": "2021-08-24T01:13:24.835466Z"
    },
    "papermill": {
     "duration": 2.42971,
     "end_time": "2021-08-24T01:25:18.857418",
     "exception": false,
     "start_time": "2021-08-24T01:25:16.427708",
     "status": "completed"
    },
    "tags": []
   },
   "outputs": [],
   "source": [
    "url = []\n",
    "images = [ keras_ocr.tools.read(i) for i in url]"
   ]
  },
  {
   "cell_type": "markdown",
   "id": "513e0be0",
   "metadata": {
    "papermill": {
     "duration": 0.03635,
     "end_time": "2021-08-24T01:25:19.756694",
     "exception": false,
     "start_time": "2021-08-24T01:25:19.720344",
     "status": "completed"
    },
    "tags": []
   },
   "source": [
    "<a id=\"kerasocr\"></a>\n",
    "# KERAS_OCR"
   ]
  },
  {
   "cell_type": "code",
   "execution_count": 5,
   "id": "7057976e",
   "metadata": {
    "execution": {
     "iopub.execute_input": "2021-08-24T01:25:19.833582Z",
     "iopub.status.busy": "2021-08-24T01:25:19.832955Z",
     "iopub.status.idle": "2021-08-24T01:26:52.010828Z",
     "shell.execute_reply": "2021-08-24T01:26:52.010249Z",
     "shell.execute_reply.started": "2021-08-24T01:13:26.901789Z"
    },
    "papermill": {
     "duration": 92.217792,
     "end_time": "2021-08-24T01:26:52.011159",
     "exception": false,
     "start_time": "2021-08-24T01:25:19.793367",
     "status": "completed"
    },
    "tags": []
   },
   "outputs": [
    {
     "name": "stdout",
     "output_type": "stream",
     "text": [
      "Looking for /root/.keras-ocr/craft_mlt_25k.h5\n",
      "Downloading /root/.keras-ocr/craft_mlt_25k.h5\n",
      "Looking for /root/.keras-ocr/crnn_kurapan.h5\n",
      "Downloading /root/.keras-ocr/crnn_kurapan.h5\n"
     ]
    }
   ],
   "source": [
    "pipline = keras_ocr.pipeline.Pipeline() #Creting a pipline \n",
    "kerasocr_preds = pipline.recognize(images)"
   ]
  },
  {
   "cell_type": "code",
   "execution_count": null,
   "id": "9dbb5807",
   "metadata": {
    "execution": {
     "iopub.execute_input": "2021-08-24T01:26:52.358111Z",
     "iopub.status.busy": "2021-08-24T01:26:52.346930Z",
     "iopub.status.idle": "2021-08-24T01:26:58.252159Z",
     "shell.execute_reply": "2021-08-24T01:26:58.252695Z",
     "shell.execute_reply.started": "2021-08-24T01:15:04.049974Z"
    },
    "papermill": {
     "duration": 6.023356,
     "end_time": "2021-08-24T01:26:58.252864",
     "exception": false,
     "start_time": "2021-08-24T01:26:52.229508",
     "status": "completed"
    },
    "tags": []
   },
   "outputs": [],
   "source": [
    "fig,axs = plt.subplots(nrows = 4 , figsize = (30,30))\n",
    "for ax , image,  prediction in zip(axs , images , kerasocr_preds):\n",
    "    keras_ocr.tools.drawAnnotations(image, prediction, ax)"
   ]
  },
  {
   "cell_type": "markdown",
   "id": "795b761c",
   "metadata": {
    "papermill": {
     "duration": 0.062716,
     "end_time": "2021-08-24T01:26:58.379253",
     "exception": false,
     "start_time": "2021-08-24T01:26:58.316537",
     "status": "completed"
    },
    "tags": []
   },
   "source": [
    "<a id=\"easyocr\"></a>\n",
    "# EASYOCR"
   ]
  },
  {
   "cell_type": "code",
   "execution_count": 7,
   "id": "13e6e9b2",
   "metadata": {
    "execution": {
     "iopub.execute_input": "2021-08-24T01:26:58.512040Z",
     "iopub.status.busy": "2021-08-24T01:26:58.511314Z",
     "iopub.status.idle": "2021-08-24T01:27:02.033206Z",
     "shell.execute_reply": "2021-08-24T01:27:02.032589Z",
     "shell.execute_reply.started": "2021-08-24T01:15:09.98225Z"
    },
    "papermill": {
     "duration": 3.589754,
     "end_time": "2021-08-24T01:27:02.033397",
     "exception": false,
     "start_time": "2021-08-24T01:26:58.443643",
     "status": "completed"
    },
    "tags": []
   },
   "outputs": [],
   "source": [
    "text_reader = easyocr.Reader(['en']) #Initialzing the ocr"
   ]
  },
  {
   "cell_type": "code",
   "execution_count": null,
   "id": "9408fc95",
   "metadata": {
    "execution": {
     "iopub.execute_input": "2021-08-24T01:27:02.416113Z",
     "iopub.status.busy": "2021-08-24T01:27:02.415170Z",
     "iopub.status.idle": "2021-08-24T01:27:06.141141Z",
     "shell.execute_reply": "2021-08-24T01:27:06.140563Z",
     "shell.execute_reply.started": "2021-08-24T01:15:13.520099Z"
    },
    "papermill": {
     "duration": 3.793198,
     "end_time": "2021-08-24T01:27:06.141280",
     "exception": false,
     "start_time": "2021-08-24T01:27:02.348082",
     "status": "completed"
    },
    "tags": []
   },
   "outputs": [],
   "source": [
    "results = text_reader.readtext(images[0] )\n",
    "for (bbox, text, prob) in results:\n",
    "    print(text)\n",
    "plt.imshow(images[0])"
   ]
  },
  {
   "cell_type": "markdown",
   "id": "aab24b3a",
   "metadata": {
    "papermill": {
     "duration": 0.075168,
     "end_time": "2021-08-24T01:27:25.580889",
     "exception": false,
     "start_time": "2021-08-24T01:27:25.505721",
     "status": "completed"
    },
    "tags": []
   },
   "source": [
    "<a id=\"pytesseract\"></a>\n",
    "# Pytesseract"
   ]
  },
  {
   "cell_type": "code",
   "execution_count": 12,
   "id": "ca2f9fab",
   "metadata": {
    "execution": {
     "iopub.execute_input": "2021-08-24T01:27:25.738962Z",
     "iopub.status.busy": "2021-08-24T01:27:25.738264Z",
     "iopub.status.idle": "2021-08-24T01:27:27.499875Z",
     "shell.execute_reply": "2021-08-24T01:27:27.499341Z",
     "shell.execute_reply.started": "2021-08-24T01:15:36.472313Z"
    },
    "papermill": {
     "duration": 1.843396,
     "end_time": "2021-08-24T01:27:27.500021",
     "exception": false,
     "start_time": "2021-08-24T01:27:25.656625",
     "status": "completed"
    },
    "tags": []
   },
   "outputs": [],
   "source": [
    "tesseract_preds = []\n",
    "for img in images:\n",
    "    tesseract_preds.append(pytesseract.image_to_string(img))"
   ]
  },
  {
   "cell_type": "code",
   "execution_count": null,
   "id": "ce45e463",
   "metadata": {
    "execution": {
     "iopub.execute_input": "2021-08-24T01:27:27.981538Z",
     "iopub.status.busy": "2021-08-24T01:27:27.961197Z",
     "iopub.status.idle": "2021-08-24T01:27:28.174383Z",
     "shell.execute_reply": "2021-08-24T01:27:28.174836Z",
     "shell.execute_reply.started": "2021-08-24T01:15:38.324794Z"
    },
    "papermill": {
     "duration": 0.29532,
     "end_time": "2021-08-24T01:27:28.175014",
     "exception": false,
     "start_time": "2021-08-24T01:27:27.879694",
     "status": "completed"
    },
    "tags": []
   },
   "outputs": [],
   "source": [
    "print(tesseract_preds[0])\n",
    "plt.imshow(images[0])"
   ]
  }
 ],
 "metadata": {
  "kernelspec": {
   "display_name": "Python 3",
   "language": "python",
   "name": "python3"
  },
  "language_info": {
   "codemirror_mode": {
    "name": "ipython",
    "version": 3
   },
   "file_extension": ".py",
   "mimetype": "text/x-python",
   "name": "python",
   "nbconvert_exporter": "python",
   "pygments_lexer": "ipython3",
   "version": "3.9.10"
  },
  "papermill": {
   "default_parameters": {},
   "duration": 171.882801,
   "end_time": "2021-08-24T01:27:32.756929",
   "environment_variables": {},
   "exception": null,
   "input_path": "__notebook__.ipynb",
   "output_path": "__notebook__.ipynb",
   "parameters": {},
   "start_time": "2021-08-24T01:24:40.874128",
   "version": "2.3.3"
  }
 },
 "nbformat": 4,
 "nbformat_minor": 5
}
